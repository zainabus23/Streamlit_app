{
 "cells": [
  {
   "cell_type": "markdown",
   "id": "ca171d62",
   "metadata": {},
   "source": [
    "##Install the necessary packages\n",
    "Import you data and perform basic data exploration phaseDisplay general information about the datasetCreate a pandas profiling reports to gain insights into the datasetHandle Missing and corrupted valuesRemove duplicates, if they existHandle outliers, if they existEncode categorical features\n",
    "Based on the previous data exploration train and test a machine learning classifier\n",
    "Create a streamlit application (locally) and add input fields for your features and a validation button at the end of the form\n",
    "Import your ML model into the streamlit application and start making predictions given the provided features values\n",
    "Deploy your application on Streamlit share:Create a github and a streamlit share accountsCreate a new git repoUpload your local code to the newly created git repolog in \n",
    "\n",
    "David Makanjuola 21:09\n",
    "Dataset description: The dataset contains demographic information and what financial services are used by approximately 33,600 individuals across East Africa. The ML model role is to predict which individuals are most likely to have or use a bank account.\n",
    "The term financial inclusion means:  individuals and businesses have access to useful and affordable financial products and services that meet their needs – transactions, payments, savings, credit and insurance – "
   ]
  },
  {
   "cell_type": "markdown",
   "id": "570ac77c",
   "metadata": {},
   "source": [
    "#Import data and perform basic data exploration "
   ]
  },
  {
   "cell_type": "code",
   "execution_count": 70,
   "id": "43ef07ce",
   "metadata": {},
   "outputs": [],
   "source": [
    "#import libraries \n",
    "import numpy as np\n",
    "import pandas as pd\n",
    "import matplotlib.pyplot as plt\n",
    "import seaborn as sns\n",
    "from sklearn.preprocessing import LabelEncoder\n"
   ]
  },
  {
   "cell_type": "code",
   "execution_count": 71,
   "id": "854077e3",
   "metadata": {},
   "outputs": [],
   "source": [
    "import joblib"
   ]
  },
  {
   "cell_type": "code",
   "execution_count": 58,
   "id": "cba8d3d9",
   "metadata": {},
   "outputs": [],
   "source": [
    "from sklearn.model_selection import train_test_split\n",
    "from sklearn.ensemble import RandomForestRegressor\n",
    "from sklearn.ensemble import RandomForestClassifier"
   ]
  },
  {
   "cell_type": "code",
   "execution_count": 59,
   "id": "5725d44f",
   "metadata": {},
   "outputs": [],
   "source": [
    "from sklearn.metrics import classification_report"
   ]
  },
  {
   "cell_type": "code",
   "execution_count": 4,
   "id": "a250ad62",
   "metadata": {},
   "outputs": [
    {
     "data": {
      "text/html": [
       "<div>\n",
       "<style scoped>\n",
       "    .dataframe tbody tr th:only-of-type {\n",
       "        vertical-align: middle;\n",
       "    }\n",
       "\n",
       "    .dataframe tbody tr th {\n",
       "        vertical-align: top;\n",
       "    }\n",
       "\n",
       "    .dataframe thead th {\n",
       "        text-align: right;\n",
       "    }\n",
       "</style>\n",
       "<table border=\"1\" class=\"dataframe\">\n",
       "  <thead>\n",
       "    <tr style=\"text-align: right;\">\n",
       "      <th></th>\n",
       "      <th>country</th>\n",
       "      <th>year</th>\n",
       "      <th>uniqueid</th>\n",
       "      <th>bank_account</th>\n",
       "      <th>location_type</th>\n",
       "      <th>cellphone_access</th>\n",
       "      <th>household_size</th>\n",
       "      <th>age_of_respondent</th>\n",
       "      <th>gender_of_respondent</th>\n",
       "      <th>relationship_with_head</th>\n",
       "      <th>marital_status</th>\n",
       "      <th>education_level</th>\n",
       "      <th>job_type</th>\n",
       "    </tr>\n",
       "  </thead>\n",
       "  <tbody>\n",
       "    <tr>\n",
       "      <th>0</th>\n",
       "      <td>Kenya</td>\n",
       "      <td>2018</td>\n",
       "      <td>uniqueid_1</td>\n",
       "      <td>Yes</td>\n",
       "      <td>Rural</td>\n",
       "      <td>Yes</td>\n",
       "      <td>3</td>\n",
       "      <td>24</td>\n",
       "      <td>Female</td>\n",
       "      <td>Spouse</td>\n",
       "      <td>Married/Living together</td>\n",
       "      <td>Secondary education</td>\n",
       "      <td>Self employed</td>\n",
       "    </tr>\n",
       "    <tr>\n",
       "      <th>1</th>\n",
       "      <td>Kenya</td>\n",
       "      <td>2018</td>\n",
       "      <td>uniqueid_2</td>\n",
       "      <td>No</td>\n",
       "      <td>Rural</td>\n",
       "      <td>No</td>\n",
       "      <td>5</td>\n",
       "      <td>70</td>\n",
       "      <td>Female</td>\n",
       "      <td>Head of Household</td>\n",
       "      <td>Widowed</td>\n",
       "      <td>No formal education</td>\n",
       "      <td>Government Dependent</td>\n",
       "    </tr>\n",
       "    <tr>\n",
       "      <th>2</th>\n",
       "      <td>Kenya</td>\n",
       "      <td>2018</td>\n",
       "      <td>uniqueid_3</td>\n",
       "      <td>Yes</td>\n",
       "      <td>Urban</td>\n",
       "      <td>Yes</td>\n",
       "      <td>5</td>\n",
       "      <td>26</td>\n",
       "      <td>Male</td>\n",
       "      <td>Other relative</td>\n",
       "      <td>Single/Never Married</td>\n",
       "      <td>Vocational/Specialised training</td>\n",
       "      <td>Self employed</td>\n",
       "    </tr>\n",
       "    <tr>\n",
       "      <th>3</th>\n",
       "      <td>Kenya</td>\n",
       "      <td>2018</td>\n",
       "      <td>uniqueid_4</td>\n",
       "      <td>No</td>\n",
       "      <td>Rural</td>\n",
       "      <td>Yes</td>\n",
       "      <td>5</td>\n",
       "      <td>34</td>\n",
       "      <td>Female</td>\n",
       "      <td>Head of Household</td>\n",
       "      <td>Married/Living together</td>\n",
       "      <td>Primary education</td>\n",
       "      <td>Formally employed Private</td>\n",
       "    </tr>\n",
       "    <tr>\n",
       "      <th>4</th>\n",
       "      <td>Kenya</td>\n",
       "      <td>2018</td>\n",
       "      <td>uniqueid_5</td>\n",
       "      <td>No</td>\n",
       "      <td>Urban</td>\n",
       "      <td>No</td>\n",
       "      <td>8</td>\n",
       "      <td>26</td>\n",
       "      <td>Male</td>\n",
       "      <td>Child</td>\n",
       "      <td>Single/Never Married</td>\n",
       "      <td>Primary education</td>\n",
       "      <td>Informally employed</td>\n",
       "    </tr>\n",
       "  </tbody>\n",
       "</table>\n",
       "</div>"
      ],
      "text/plain": [
       "  country  year    uniqueid bank_account location_type cellphone_access  \\\n",
       "0   Kenya  2018  uniqueid_1          Yes         Rural              Yes   \n",
       "1   Kenya  2018  uniqueid_2           No         Rural               No   \n",
       "2   Kenya  2018  uniqueid_3          Yes         Urban              Yes   \n",
       "3   Kenya  2018  uniqueid_4           No         Rural              Yes   \n",
       "4   Kenya  2018  uniqueid_5           No         Urban               No   \n",
       "\n",
       "   household_size  age_of_respondent gender_of_respondent  \\\n",
       "0               3                 24               Female   \n",
       "1               5                 70               Female   \n",
       "2               5                 26                 Male   \n",
       "3               5                 34               Female   \n",
       "4               8                 26                 Male   \n",
       "\n",
       "  relationship_with_head           marital_status  \\\n",
       "0                 Spouse  Married/Living together   \n",
       "1      Head of Household                  Widowed   \n",
       "2         Other relative     Single/Never Married   \n",
       "3      Head of Household  Married/Living together   \n",
       "4                  Child     Single/Never Married   \n",
       "\n",
       "                   education_level                   job_type  \n",
       "0              Secondary education              Self employed  \n",
       "1              No formal education       Government Dependent  \n",
       "2  Vocational/Specialised training              Self employed  \n",
       "3                Primary education  Formally employed Private  \n",
       "4                Primary education        Informally employed  "
      ]
     },
     "execution_count": 4,
     "metadata": {},
     "output_type": "execute_result"
    }
   ],
   "source": [
    "file_path = \"Financial_inclusion_dataset.csv\"\n",
    "df = pd.read_csv(file_path)\n",
    "df.head()"
   ]
  },
  {
   "cell_type": "code",
   "execution_count": 5,
   "id": "6aa83023",
   "metadata": {},
   "outputs": [
    {
     "data": {
      "text/plain": [
       "<bound method DataFrame.info of       country  year       uniqueid bank_account location_type  \\\n",
       "0       Kenya  2018     uniqueid_1          Yes         Rural   \n",
       "1       Kenya  2018     uniqueid_2           No         Rural   \n",
       "2       Kenya  2018     uniqueid_3          Yes         Urban   \n",
       "3       Kenya  2018     uniqueid_4           No         Rural   \n",
       "4       Kenya  2018     uniqueid_5           No         Urban   \n",
       "...       ...   ...            ...          ...           ...   \n",
       "23519  Uganda  2018  uniqueid_2113           No         Rural   \n",
       "23520  Uganda  2018  uniqueid_2114           No         Rural   \n",
       "23521  Uganda  2018  uniqueid_2115           No         Rural   \n",
       "23522  Uganda  2018  uniqueid_2116           No         Urban   \n",
       "23523  Uganda  2018  uniqueid_2117           No         Rural   \n",
       "\n",
       "      cellphone_access  household_size  age_of_respondent  \\\n",
       "0                  Yes               3                 24   \n",
       "1                   No               5                 70   \n",
       "2                  Yes               5                 26   \n",
       "3                  Yes               5                 34   \n",
       "4                   No               8                 26   \n",
       "...                ...             ...                ...   \n",
       "23519              Yes               4                 48   \n",
       "23520              Yes               2                 27   \n",
       "23521              Yes               5                 27   \n",
       "23522              Yes               7                 30   \n",
       "23523              Yes              10                 20   \n",
       "\n",
       "      gender_of_respondent relationship_with_head           marital_status  \\\n",
       "0                   Female                 Spouse  Married/Living together   \n",
       "1                   Female      Head of Household                  Widowed   \n",
       "2                     Male         Other relative     Single/Never Married   \n",
       "3                   Female      Head of Household  Married/Living together   \n",
       "4                     Male                  Child     Single/Never Married   \n",
       "...                    ...                    ...                      ...   \n",
       "23519               Female      Head of Household       Divorced/Seperated   \n",
       "23520               Female      Head of Household     Single/Never Married   \n",
       "23521               Female                 Parent                  Widowed   \n",
       "23522               Female                 Parent       Divorced/Seperated   \n",
       "23523                 Male                  Child     Single/Never Married   \n",
       "\n",
       "                       education_level                   job_type  \n",
       "0                  Secondary education              Self employed  \n",
       "1                  No formal education       Government Dependent  \n",
       "2      Vocational/Specialised training              Self employed  \n",
       "3                    Primary education  Formally employed Private  \n",
       "4                    Primary education        Informally employed  \n",
       "...                                ...                        ...  \n",
       "23519              No formal education               Other Income  \n",
       "23520              Secondary education               Other Income  \n",
       "23521                Primary education               Other Income  \n",
       "23522              Secondary education              Self employed  \n",
       "23523              Secondary education                  No Income  \n",
       "\n",
       "[23524 rows x 13 columns]>"
      ]
     },
     "execution_count": 5,
     "metadata": {},
     "output_type": "execute_result"
    }
   ],
   "source": [
    "df.info"
   ]
  },
  {
   "cell_type": "code",
   "execution_count": 6,
   "id": "82e0c009",
   "metadata": {},
   "outputs": [
    {
     "data": {
      "text/plain": [
       "country                   0\n",
       "year                      0\n",
       "uniqueid                  0\n",
       "bank_account              0\n",
       "location_type             0\n",
       "cellphone_access          0\n",
       "household_size            0\n",
       "age_of_respondent         0\n",
       "gender_of_respondent      0\n",
       "relationship_with_head    0\n",
       "marital_status            0\n",
       "education_level           0\n",
       "job_type                  0\n",
       "dtype: int64"
      ]
     },
     "execution_count": 6,
     "metadata": {},
     "output_type": "execute_result"
    }
   ],
   "source": [
    "#check missing variable \n",
    "df.isnull().sum()"
   ]
  },
  {
   "cell_type": "code",
   "execution_count": 10,
   "id": "69670280",
   "metadata": {},
   "outputs": [
    {
     "data": {
      "text/plain": [
       "(23524, 13)"
      ]
     },
     "execution_count": 10,
     "metadata": {},
     "output_type": "execute_result"
    }
   ],
   "source": [
    "df.shape"
   ]
  },
  {
   "cell_type": "code",
   "execution_count": 11,
   "id": "1cfeed86",
   "metadata": {},
   "outputs": [
    {
     "data": {
      "text/plain": [
       "0        False\n",
       "1        False\n",
       "2        False\n",
       "3        False\n",
       "4        False\n",
       "         ...  \n",
       "23519    False\n",
       "23520    False\n",
       "23521    False\n",
       "23522    False\n",
       "23523    False\n",
       "Length: 23524, dtype: bool"
      ]
     },
     "execution_count": 11,
     "metadata": {},
     "output_type": "execute_result"
    }
   ],
   "source": [
    "#check duplicates \n",
    "df.duplicated()"
   ]
  },
  {
   "cell_type": "code",
   "execution_count": 12,
   "id": "43217d68",
   "metadata": {},
   "outputs": [
    {
     "data": {
      "text/html": [
       "<div>\n",
       "<style scoped>\n",
       "    .dataframe tbody tr th:only-of-type {\n",
       "        vertical-align: middle;\n",
       "    }\n",
       "\n",
       "    .dataframe tbody tr th {\n",
       "        vertical-align: top;\n",
       "    }\n",
       "\n",
       "    .dataframe thead th {\n",
       "        text-align: right;\n",
       "    }\n",
       "</style>\n",
       "<table border=\"1\" class=\"dataframe\">\n",
       "  <thead>\n",
       "    <tr style=\"text-align: right;\">\n",
       "      <th></th>\n",
       "      <th>year</th>\n",
       "      <th>household_size</th>\n",
       "      <th>age_of_respondent</th>\n",
       "    </tr>\n",
       "  </thead>\n",
       "  <tbody>\n",
       "    <tr>\n",
       "      <th>count</th>\n",
       "      <td>23524.000000</td>\n",
       "      <td>23524.000000</td>\n",
       "      <td>23524.000000</td>\n",
       "    </tr>\n",
       "    <tr>\n",
       "      <th>mean</th>\n",
       "      <td>2016.975939</td>\n",
       "      <td>3.797483</td>\n",
       "      <td>38.805220</td>\n",
       "    </tr>\n",
       "    <tr>\n",
       "      <th>std</th>\n",
       "      <td>0.847371</td>\n",
       "      <td>2.227613</td>\n",
       "      <td>16.520569</td>\n",
       "    </tr>\n",
       "    <tr>\n",
       "      <th>min</th>\n",
       "      <td>2016.000000</td>\n",
       "      <td>1.000000</td>\n",
       "      <td>16.000000</td>\n",
       "    </tr>\n",
       "    <tr>\n",
       "      <th>25%</th>\n",
       "      <td>2016.000000</td>\n",
       "      <td>2.000000</td>\n",
       "      <td>26.000000</td>\n",
       "    </tr>\n",
       "    <tr>\n",
       "      <th>50%</th>\n",
       "      <td>2017.000000</td>\n",
       "      <td>3.000000</td>\n",
       "      <td>35.000000</td>\n",
       "    </tr>\n",
       "    <tr>\n",
       "      <th>75%</th>\n",
       "      <td>2018.000000</td>\n",
       "      <td>5.000000</td>\n",
       "      <td>49.000000</td>\n",
       "    </tr>\n",
       "    <tr>\n",
       "      <th>max</th>\n",
       "      <td>2018.000000</td>\n",
       "      <td>21.000000</td>\n",
       "      <td>100.000000</td>\n",
       "    </tr>\n",
       "  </tbody>\n",
       "</table>\n",
       "</div>"
      ],
      "text/plain": [
       "               year  household_size  age_of_respondent\n",
       "count  23524.000000    23524.000000       23524.000000\n",
       "mean    2016.975939        3.797483          38.805220\n",
       "std        0.847371        2.227613          16.520569\n",
       "min     2016.000000        1.000000          16.000000\n",
       "25%     2016.000000        2.000000          26.000000\n",
       "50%     2017.000000        3.000000          35.000000\n",
       "75%     2018.000000        5.000000          49.000000\n",
       "max     2018.000000       21.000000         100.000000"
      ]
     },
     "execution_count": 12,
     "metadata": {},
     "output_type": "execute_result"
    }
   ],
   "source": [
    "#describe \n",
    "df.describe()"
   ]
  },
  {
   "cell_type": "code",
   "execution_count": 13,
   "id": "9192ee44",
   "metadata": {},
   "outputs": [
    {
     "data": {
      "text/plain": [
       "age_of_respondent\n",
       "30    1056\n",
       "35     836\n",
       "25     792\n",
       "28     748\n",
       "32     715\n",
       "      ... \n",
       "91       5\n",
       "93       4\n",
       "96       3\n",
       "99       2\n",
       "97       1\n",
       "Name: count, Length: 85, dtype: int64"
      ]
     },
     "execution_count": 13,
     "metadata": {},
     "output_type": "execute_result"
    }
   ],
   "source": [
    "#check all numerical variables for outliers \n",
    "df.age_of_respondent.value_counts()"
   ]
  },
  {
   "cell_type": "code",
   "execution_count": 14,
   "id": "97da1325",
   "metadata": {},
   "outputs": [
    {
     "data": {
      "text/plain": [
       "(array([4809., 5480., 4707., 2785., 2164., 1733.,  965.,  640.,  189.,\n",
       "          52.]),\n",
       " array([ 16. ,  24.4,  32.8,  41.2,  49.6,  58. ,  66.4,  74.8,  83.2,\n",
       "         91.6, 100. ]),\n",
       " <BarContainer object of 10 artists>)"
      ]
     },
     "execution_count": 14,
     "metadata": {},
     "output_type": "execute_result"
    },
    {
     "data": {
      "image/png": "[encoded data removed]",
      "text/plain": [
       "<Figure size 640x480 with 1 Axes>"
      ]
     },
     "metadata": {},
     "output_type": "display_data"
    }
   ],
   "source": [
    "#check numerical data fro outlier \n",
    "plt.hist(df[\"age_of_respondent\"])"
   ]
  },
  {
   "cell_type": "code",
   "execution_count": 16,
   "id": "678f101a",
   "metadata": {},
   "outputs": [
    {
     "data": {
      "text/plain": [
       "household_size\n",
       "2     5229\n",
       "3     3920\n",
       "4     3474\n",
       "1     3057\n",
       "5     2853\n",
       "6     2096\n",
       "7     1400\n",
       "8      751\n",
       "9      363\n",
       "10     190\n",
       "11      69\n",
       "12      68\n",
       "13      25\n",
       "15      11\n",
       "14      10\n",
       "16       4\n",
       "21       1\n",
       "18       1\n",
       "17       1\n",
       "20       1\n",
       "Name: count, dtype: int64"
      ]
     },
     "execution_count": 16,
     "metadata": {},
     "output_type": "execute_result"
    }
   ],
   "source": [
    "#numerical variable \"household size\"\n",
    "df.household_size.value_counts()"
   ]
  },
  {
   "cell_type": "code",
   "execution_count": 17,
   "id": "072927b8",
   "metadata": {},
   "outputs": [
    {
     "data": {
      "text/plain": [
       "(array([8.286e+03, 7.394e+03, 4.949e+03, 2.151e+03, 5.530e+02, 1.370e+02,\n",
       "        3.500e+01, 1.500e+01, 2.000e+00, 2.000e+00]),\n",
       " array([ 1.,  3.,  5.,  7.,  9., 11., 13., 15., 17., 19., 21.]),\n",
       " <BarContainer object of 10 artists>)"
      ]
     },
     "execution_count": 17,
     "metadata": {},
     "output_type": "execute_result"
    },
    {
     "data": {
      "image/png": "[encoded data removed]",
      "text/plain": [
       "<Figure size 640x480 with 1 Axes>"
      ]
     },
     "metadata": {},
     "output_type": "display_data"
    }
   ],
   "source": [
    "plt.hist(df.household_size)"
   ]
  },
  {
   "cell_type": "code",
   "execution_count": 18,
   "id": "de503b5c",
   "metadata": {},
   "outputs": [
    {
     "name": "stdout",
     "output_type": "stream",
     "text": [
      "Index(['country', 'uniqueid', 'bank_account', 'location_type',\n",
      "       'cellphone_access', 'gender_of_respondent', 'relationship_with_head',\n",
      "       'marital_status', 'education_level', 'job_type'],\n",
      "      dtype='object')\n",
      "Index(['year', 'household_size', 'age_of_respondent'], dtype='object')\n"
     ]
    }
   ],
   "source": [
    "#check categorical variable\n",
    "cat_col = df.select_dtypes(\"object\")\n",
    "num_col = df.select_dtypes(\"number\")\n",
    "\n",
    "print(cat_col.columns)\n",
    "print(num_col.columns)"
   ]
  },
  {
   "cell_type": "code",
   "execution_count": 19,
   "id": "7a146bac",
   "metadata": {},
   "outputs": [
    {
     "data": {
      "text/plain": [
       "Index(['country', 'uniqueid', 'bank_account', 'location_type',\n",
       "       'cellphone_access', 'gender_of_respondent', 'relationship_with_head',\n",
       "       'marital_status', 'education_level', 'job_type'],\n",
       "      dtype='object')"
      ]
     },
     "execution_count": 19,
     "metadata": {},
     "output_type": "execute_result"
    }
   ],
   "source": [
    "cat_col.columns"
   ]
  },
  {
   "cell_type": "code",
   "execution_count": 20,
   "id": "4150ae08",
   "metadata": {},
   "outputs": [
    {
     "data": {
      "text/plain": [
       "Index(['year', 'household_size', 'age_of_respondent'], dtype='object')"
      ]
     },
     "execution_count": 20,
     "metadata": {},
     "output_type": "execute_result"
    }
   ],
   "source": [
    "num_col.columns"
   ]
  },
  {
   "cell_type": "code",
   "execution_count": 21,
   "id": "83e142f8",
   "metadata": {},
   "outputs": [
    {
     "data": {
      "text/plain": [
       "country\n",
       "Rwanda      8735\n",
       "Tanzania    6620\n",
       "Kenya       6068\n",
       "Uganda      2101\n",
       "Name: count, dtype: int64"
      ]
     },
     "execution_count": 21,
     "metadata": {},
     "output_type": "execute_result"
    }
   ],
   "source": [
    "df.country.value_counts()"
   ]
  },
  {
   "cell_type": "code",
   "execution_count": 22,
   "id": "3c7fcb85",
   "metadata": {},
   "outputs": [
    {
     "data": {
      "text/plain": [
       "array(['Kenya', 'Rwanda', 'Tanzania', 'Uganda'], dtype=object)"
      ]
     },
     "execution_count": 22,
     "metadata": {},
     "output_type": "execute_result"
    }
   ],
   "source": [
    "#encoding the country \n",
    "coun_enc = LabelEncoder()\n",
    "df[\"country\"]=coun_enc.fit_transform(df['country'])\n",
    "\n",
    "coun_enc.classes_"
   ]
  },
  {
   "cell_type": "code",
   "execution_count": 23,
   "id": "6bf5bef8",
   "metadata": {},
   "outputs": [
    {
     "data": {
      "text/plain": [
       "country\n",
       "1    8735\n",
       "2    6620\n",
       "0    6068\n",
       "3    2101\n",
       "Name: count, dtype: int64"
      ]
     },
     "execution_count": 23,
     "metadata": {},
     "output_type": "execute_result"
    }
   ],
   "source": [
    "df.country.value_counts()"
   ]
  },
  {
   "cell_type": "code",
   "execution_count": 64,
   "id": "beb91eb2",
   "metadata": {},
   "outputs": [
    {
     "data": {
      "text/plain": [
       "['country_encoder.sav']"
      ]
     },
     "execution_count": 64,
     "metadata": {},
     "output_type": "execute_result"
    }
   ],
   "source": [
    "#save country\n",
    "path = \"country_encoder.sav\"\n",
    "joblib.dump(coun_enc, path)"
   ]
  },
  {
   "cell_type": "code",
   "execution_count": 24,
   "id": "a8001415",
   "metadata": {},
   "outputs": [
    {
     "data": {
      "text/plain": [
       "gender_of_respondent\n",
       "Female    13877\n",
       "Male       9647\n",
       "Name: count, dtype: int64"
      ]
     },
     "execution_count": 24,
     "metadata": {},
     "output_type": "execute_result"
    }
   ],
   "source": [
    "#encodung gender \n",
    "df.gender_of_respondent.value_counts()"
   ]
  },
  {
   "cell_type": "code",
   "execution_count": 25,
   "id": "d83b9b10",
   "metadata": {},
   "outputs": [
    {
     "data": {
      "text/plain": [
       "array(['Female', 'Male'], dtype=object)"
      ]
     },
     "execution_count": 25,
     "metadata": {},
     "output_type": "execute_result"
    }
   ],
   "source": [
    "gen_enc = LabelEncoder()\n",
    "df[\"gender_of_respondent\"]=gen_enc.fit_transform(df['gender_of_respondent'])\n",
    "\n",
    "gen_enc.classes_"
   ]
  },
  {
   "cell_type": "code",
   "execution_count": 26,
   "id": "51b19de2",
   "metadata": {},
   "outputs": [
    {
     "data": {
      "text/plain": [
       "gender_of_respondent\n",
       "0    13877\n",
       "1     9647\n",
       "Name: count, dtype: int64"
      ]
     },
     "execution_count": 26,
     "metadata": {},
     "output_type": "execute_result"
    }
   ],
   "source": [
    "df.gender_of_respondent.value_counts()"
   ]
  },
  {
   "cell_type": "code",
   "execution_count": 63,
   "id": "e85930d7",
   "metadata": {},
   "outputs": [
    {
     "data": {
      "text/plain": [
       "['genc_encoder.sav']"
      ]
     },
     "execution_count": 63,
     "metadata": {},
     "output_type": "execute_result"
    }
   ],
   "source": [
    "#joblib gender\n",
    "path = 'genc_encoder.sav'\n",
    "joblib.dump(gen_enc,path)"
   ]
  },
  {
   "cell_type": "code",
   "execution_count": 27,
   "id": "3a63226f",
   "metadata": {},
   "outputs": [
    {
     "data": {
      "text/plain": [
       "array([0, 1, 2, 3])"
      ]
     },
     "execution_count": 27,
     "metadata": {},
     "output_type": "execute_result"
    }
   ],
   "source": [
    "#country encoding \n",
    "coun_enc = LabelEncoder()\n",
    "df[\"country\"]=coun_enc.fit_transform(df['country'])\n",
    "coun_enc.classes_"
   ]
  },
  {
   "cell_type": "code",
   "execution_count": 28,
   "id": "5216fdf4",
   "metadata": {},
   "outputs": [
    {
     "data": {
      "text/plain": [
       "country\n",
       "1    8735\n",
       "2    6620\n",
       "0    6068\n",
       "3    2101\n",
       "Name: count, dtype: int64"
      ]
     },
     "execution_count": 28,
     "metadata": {},
     "output_type": "execute_result"
    }
   ],
   "source": [
    "df.country.value_counts()"
   ]
  },
  {
   "cell_type": "code",
   "execution_count": 37,
   "id": "a9666b2d",
   "metadata": {},
   "outputs": [
    {
     "data": {
      "text/plain": [
       "uniqueid\n",
       "uniqueid_771     4\n",
       "uniqueid_2052    4\n",
       "uniqueid_2053    4\n",
       "uniqueid_2054    4\n",
       "uniqueid_2055    4\n",
       "                ..\n",
       "uniqueid_8706    1\n",
       "uniqueid_8707    1\n",
       "uniqueid_8708    1\n",
       "uniqueid_8709    1\n",
       "uniqueid_8699    1\n",
       "Name: count, Length: 8735, dtype: int64"
      ]
     },
     "execution_count": 37,
     "metadata": {},
     "output_type": "execute_result"
    }
   ],
   "source": [
    "df.uniqueid.value_counts()"
   ]
  },
  {
   "cell_type": "code",
   "execution_count": 29,
   "id": "a583db5d",
   "metadata": {},
   "outputs": [
    {
     "data": {
      "text/plain": [
       "bank_account\n",
       "No     20212\n",
       "Yes     3312\n",
       "Name: count, dtype: int64"
      ]
     },
     "execution_count": 29,
     "metadata": {},
     "output_type": "execute_result"
    }
   ],
   "source": [
    "df.bank_account.value_counts()"
   ]
  },
  {
   "cell_type": "code",
   "execution_count": 30,
   "id": "a5c57bf1",
   "metadata": {},
   "outputs": [],
   "source": [
    "#encoding bank account\n",
    "ba_enc = LabelEncoder()\n",
    "df[\"bank_account\"]=ba_enc.fit_transform(df['bank_account'])"
   ]
  },
  {
   "cell_type": "code",
   "execution_count": 31,
   "id": "f86a7b33",
   "metadata": {},
   "outputs": [
    {
     "data": {
      "text/plain": [
       "bank_account\n",
       "0    20212\n",
       "1     3312\n",
       "Name: count, dtype: int64"
      ]
     },
     "execution_count": 31,
     "metadata": {},
     "output_type": "execute_result"
    }
   ],
   "source": [
    "df.bank_account.value_counts()"
   ]
  },
  {
   "cell_type": "code",
   "execution_count": 32,
   "id": "cc297197",
   "metadata": {},
   "outputs": [
    {
     "data": {
      "text/plain": [
       "location_type\n",
       "Rural    14343\n",
       "Urban     9181\n",
       "Name: count, dtype: int64"
      ]
     },
     "execution_count": 32,
     "metadata": {},
     "output_type": "execute_result"
    }
   ],
   "source": [
    "df.location_type.value_counts()"
   ]
  },
  {
   "cell_type": "code",
   "execution_count": 33,
   "id": "2290bbf8",
   "metadata": {},
   "outputs": [],
   "source": [
    "#encode location_type \n",
    "loc_enc = LabelEncoder()\n",
    "df[\"location_type\"]=loc_enc.fit_transform(df['location_type'])\n"
   ]
  },
  {
   "cell_type": "code",
   "execution_count": 34,
   "id": "8b15f94e",
   "metadata": {},
   "outputs": [
    {
     "data": {
      "text/plain": [
       "location_type\n",
       "0    14343\n",
       "1     9181\n",
       "Name: count, dtype: int64"
      ]
     },
     "execution_count": 34,
     "metadata": {},
     "output_type": "execute_result"
    }
   ],
   "source": [
    "df.location_type.value_counts()"
   ]
  },
  {
   "cell_type": "code",
   "execution_count": null,
   "id": "d9dc6c51",
   "metadata": {},
   "outputs": [
    {
     "data": {
      "text/plain": [
       "['location_encoder.sav']"
      ]
     },
     "execution_count": 65,
     "metadata": {},
     "output_type": "execute_result"
    }
   ],
   "source": [
    "#joblib location\n",
    "\n",
    "path = 'location_encoder.sav'\n",
    "joblib.dump(loc_enc,path)"
   ]
  },
  {
   "cell_type": "code",
   "execution_count": 35,
   "id": "378295eb",
   "metadata": {},
   "outputs": [
    {
     "data": {
      "text/plain": [
       "<bound method IndexOpsMixin.value_counts of 0                    Secondary education\n",
       "1                    No formal education\n",
       "2        Vocational/Specialised training\n",
       "3                      Primary education\n",
       "4                      Primary education\n",
       "                      ...               \n",
       "23519                No formal education\n",
       "23520                Secondary education\n",
       "23521                  Primary education\n",
       "23522                Secondary education\n",
       "23523                Secondary education\n",
       "Name: education_level, Length: 23524, dtype: object>"
      ]
     },
     "execution_count": 35,
     "metadata": {},
     "output_type": "execute_result"
    }
   ],
   "source": [
    "df.education_level.value_counts"
   ]
  },
  {
   "cell_type": "code",
   "execution_count": 36,
   "id": "fc9044a8",
   "metadata": {},
   "outputs": [
    {
     "data": {
      "text/plain": [
       "array(['No formal education', 'Other/Dont know/RTA', 'Primary education',\n",
       "       'Secondary education', 'Tertiary education',\n",
       "       'Vocational/Specialised training'], dtype=object)"
      ]
     },
     "execution_count": 36,
     "metadata": {},
     "output_type": "execute_result"
    }
   ],
   "source": [
    "#encoding education variable\n",
    "educ_enc = LabelEncoder()\n",
    "df[\"education_level\"]=educ_enc.fit_transform(df['education_level'])\n",
    "\n",
    "educ_enc.classes_"
   ]
  },
  {
   "cell_type": "code",
   "execution_count": 37,
   "id": "189457c5",
   "metadata": {},
   "outputs": [
    {
     "data": {
      "text/plain": [
       "['educ_encoder.sav']"
      ]
     },
     "execution_count": 37,
     "metadata": {},
     "output_type": "execute_result"
    }
   ],
   "source": [
    "#save educ_enc\n",
    "path = 'educ_encoder.sav'\n",
    "joblib.dump(educ_enc,path)"
   ]
  },
  {
   "cell_type": "code",
   "execution_count": 38,
   "id": "5f208aac",
   "metadata": {},
   "outputs": [
    {
     "data": {
      "text/plain": [
       "relationship_with_head\n",
       "Head of Household      12831\n",
       "Spouse                  6520\n",
       "Child                   2229\n",
       "Parent                  1086\n",
       "Other relative           668\n",
       "Other non-relatives      190\n",
       "Name: count, dtype: int64"
      ]
     },
     "execution_count": 38,
     "metadata": {},
     "output_type": "execute_result"
    }
   ],
   "source": [
    "df.relationship_with_head.value_counts()"
   ]
  },
  {
   "cell_type": "code",
   "execution_count": 39,
   "id": "bbb8d7d0",
   "metadata": {},
   "outputs": [
    {
     "data": {
      "text/plain": [
       "array(['Child', 'Head of Household', 'Other non-relatives',\n",
       "       'Other relative', 'Parent', 'Spouse'], dtype=object)"
      ]
     },
     "execution_count": 39,
     "metadata": {},
     "output_type": "execute_result"
    }
   ],
   "source": [
    "#encodeing relationship with head \n",
    "\n",
    "rel_enc = LabelEncoder()\n",
    "df[\"relationship_with_head\"]=rel_enc.fit_transform(df['relationship_with_head'])\n",
    "\n",
    "rel_enc.classes_"
   ]
  },
  {
   "cell_type": "code",
   "execution_count": 40,
   "id": "d56cc7d5",
   "metadata": {},
   "outputs": [
    {
     "data": {
      "text/plain": [
       "relationship_with_head\n",
       "1    12831\n",
       "5     6520\n",
       "0     2229\n",
       "4     1086\n",
       "3      668\n",
       "2      190\n",
       "Name: count, dtype: int64"
      ]
     },
     "execution_count": 40,
     "metadata": {},
     "output_type": "execute_result"
    }
   ],
   "source": [
    "df.relationship_with_head.value_counts()"
   ]
  },
  {
   "cell_type": "code",
   "execution_count": 66,
   "id": "595f5862",
   "metadata": {},
   "outputs": [
    {
     "data": {
      "text/plain": [
       "['rel_head_encoder.sav']"
      ]
     },
     "execution_count": 66,
     "metadata": {},
     "output_type": "execute_result"
    }
   ],
   "source": [
    "#joblib relationship with head \n",
    "path = 'rel_head_encoder.sav'\n",
    "joblib.dump(rel_enc,path)"
   ]
  },
  {
   "cell_type": "code",
   "execution_count": 41,
   "id": "bfe36ce0",
   "metadata": {},
   "outputs": [
    {
     "data": {
      "text/plain": [
       "marital_status\n",
       "Married/Living together    10749\n",
       "Single/Never Married        7983\n",
       "Widowed                     2708\n",
       "Divorced/Seperated          2076\n",
       "Dont know                      8\n",
       "Name: count, dtype: int64"
      ]
     },
     "execution_count": 41,
     "metadata": {},
     "output_type": "execute_result"
    }
   ],
   "source": [
    "#encoding marital status \n",
    "df.marital_status.value_counts()"
   ]
  },
  {
   "cell_type": "code",
   "execution_count": 42,
   "id": "6d157959",
   "metadata": {},
   "outputs": [
    {
     "data": {
      "text/plain": [
       "array(['Divorced/Seperated', 'Dont know', 'Married/Living together',\n",
       "       'Single/Never Married', 'Widowed'], dtype=object)"
      ]
     },
     "execution_count": 42,
     "metadata": {},
     "output_type": "execute_result"
    }
   ],
   "source": [
    "marit_enc = LabelEncoder()\n",
    "df[\"marital_status\"]=marit_enc.fit_transform(df['marital_status'])\n",
    "\n",
    "marit_enc.classes_"
   ]
  },
  {
   "cell_type": "code",
   "execution_count": 43,
   "id": "855e39e7",
   "metadata": {},
   "outputs": [
    {
     "data": {
      "text/plain": [
       "marital_status\n",
       "2    10749\n",
       "3     7983\n",
       "4     2708\n",
       "0     2076\n",
       "1        8\n",
       "Name: count, dtype: int64"
      ]
     },
     "execution_count": 43,
     "metadata": {},
     "output_type": "execute_result"
    }
   ],
   "source": [
    "df.marital_status.value_counts()"
   ]
  },
  {
   "cell_type": "code",
   "execution_count": 69,
   "id": "9cabfa44",
   "metadata": {},
   "outputs": [
    {
     "data": {
      "text/plain": [
       "['marit_encoder.sav']"
      ]
     },
     "execution_count": 69,
     "metadata": {},
     "output_type": "execute_result"
    }
   ],
   "source": [
    "#joblib marital status \n",
    "path = 'marit_encoder.sav'\n",
    "joblib.dump(marit_enc,path)"
   ]
  },
  {
   "cell_type": "code",
   "execution_count": 44,
   "id": "cd3faa7d",
   "metadata": {},
   "outputs": [
    {
     "data": {
      "text/plain": [
       "cellphone_access\n",
       "Yes    17454\n",
       "No      6070\n",
       "Name: count, dtype: int64"
      ]
     },
     "execution_count": 44,
     "metadata": {},
     "output_type": "execute_result"
    }
   ],
   "source": [
    "#encoding \n",
    "df.cellphone_access.value_counts()"
   ]
  },
  {
   "cell_type": "code",
   "execution_count": 45,
   "id": "4f62031e",
   "metadata": {},
   "outputs": [
    {
     "data": {
      "text/plain": [
       "array(['No', 'Yes'], dtype=object)"
      ]
     },
     "execution_count": 45,
     "metadata": {},
     "output_type": "execute_result"
    }
   ],
   "source": [
    "cell_enc=LabelEncoder()\n",
    "df.cellphone_access=cell_enc.fit_transform(df.cellphone_access)\n",
    "\n",
    "cell_enc.classes_"
   ]
  },
  {
   "cell_type": "code",
   "execution_count": 46,
   "id": "9ac511ed",
   "metadata": {},
   "outputs": [
    {
     "data": {
      "text/plain": [
       "cellphone_access\n",
       "1    17454\n",
       "0     6070\n",
       "Name: count, dtype: int64"
      ]
     },
     "execution_count": 46,
     "metadata": {},
     "output_type": "execute_result"
    }
   ],
   "source": [
    "df.cellphone_access.value_counts()"
   ]
  },
  {
   "cell_type": "code",
   "execution_count": 68,
   "id": "385dd319",
   "metadata": {},
   "outputs": [
    {
     "data": {
      "text/plain": [
       "['cellacess_encoder.sav']"
      ]
     },
     "execution_count": 68,
     "metadata": {},
     "output_type": "execute_result"
    }
   ],
   "source": [
    "#joblib cellphone access\n",
    "path = 'cellacess_encoder.sav'\n",
    "joblib.dump(cell_enc,path)"
   ]
  },
  {
   "cell_type": "code",
   "execution_count": 47,
   "id": "706c447b",
   "metadata": {},
   "outputs": [
    {
     "data": {
      "text/plain": [
       "job_type\n",
       "Self employed                   6437\n",
       "Informally employed             5597\n",
       "Farming and Fishing             5441\n",
       "Remittance Dependent            2527\n",
       "Other Income                    1080\n",
       "Formally employed Private       1055\n",
       "No Income                        627\n",
       "Formally employed Government     387\n",
       "Government Dependent             247\n",
       "Dont Know/Refuse to answer       126\n",
       "Name: count, dtype: int64"
      ]
     },
     "execution_count": 47,
     "metadata": {},
     "output_type": "execute_result"
    }
   ],
   "source": [
    "#encodeing jobtype\n",
    "\n",
    "df.job_type.value_counts()"
   ]
  },
  {
   "cell_type": "code",
   "execution_count": 50,
   "id": "39b9be3b",
   "metadata": {},
   "outputs": [
    {
     "data": {
      "text/plain": [
       "array(['Dont Know/Refuse to answer', 'Farming and Fishing',\n",
       "       'Formally employed Government', 'Formally employed Private',\n",
       "       'Government Dependent', 'Informally employed', 'No Income',\n",
       "       'Other Income', 'Remittance Dependent', 'Self employed'],\n",
       "      dtype=object)"
      ]
     },
     "execution_count": 50,
     "metadata": {},
     "output_type": "execute_result"
    }
   ],
   "source": [
    "#encoding jobtype\n",
    "jobtype_enc = LabelEncoder()\n",
    "df.job_type=jobtype_enc.fit_transform(df.job_type)\n",
    "\n",
    "jobtype_enc.classes_"
   ]
  },
  {
   "cell_type": "code",
   "execution_count": 67,
   "id": "2720afef",
   "metadata": {},
   "outputs": [
    {
     "data": {
      "text/plain": [
       "['jobtype_encoder.sav']"
      ]
     },
     "execution_count": 67,
     "metadata": {},
     "output_type": "execute_result"
    }
   ],
   "source": [
    "#joblib jobtype \n",
    "path = 'jobtype_encoder.sav'\n",
    "joblib.dump(jobtype_enc,path)"
   ]
  },
  {
   "cell_type": "code",
   "execution_count": 72,
   "id": "bbf5207c",
   "metadata": {},
   "outputs": [
    {
     "data": {
      "text/plain": [
       "year\n",
       "2016    8735\n",
       "2018    8169\n",
       "2017    6620\n",
       "Name: count, dtype: int64"
      ]
     },
     "execution_count": 72,
     "metadata": {},
     "output_type": "execute_result"
    }
   ],
   "source": [
    "#encode year \n",
    "df.year.value_counts()"
   ]
  },
  {
   "cell_type": "code",
   "execution_count": 76,
   "id": "c2e1739c",
   "metadata": {},
   "outputs": [],
   "source": [
    "#encode year \n",
    "year_enc= LabelEncoder()\n",
    "df.year= yearenc.fit_transform(df.year)\n"
   ]
  },
  {
   "cell_type": "code",
   "execution_count": 77,
   "id": "382925f9",
   "metadata": {},
   "outputs": [
    {
     "data": {
      "text/plain": [
       "year\n",
       "0    8735\n",
       "2    8169\n",
       "1    6620\n",
       "Name: count, dtype: int64"
      ]
     },
     "execution_count": 77,
     "metadata": {},
     "output_type": "execute_result"
    }
   ],
   "source": [
    "df.year.value_counts()"
   ]
  },
  {
   "cell_type": "code",
   "execution_count": 78,
   "id": "aa0987e3",
   "metadata": {},
   "outputs": [
    {
     "data": {
      "text/html": [
       "<div>\n",
       "<style scoped>\n",
       "    .dataframe tbody tr th:only-of-type {\n",
       "        vertical-align: middle;\n",
       "    }\n",
       "\n",
       "    .dataframe tbody tr th {\n",
       "        vertical-align: top;\n",
       "    }\n",
       "\n",
       "    .dataframe thead th {\n",
       "        text-align: right;\n",
       "    }\n",
       "</style>\n",
       "<table border=\"1\" class=\"dataframe\">\n",
       "  <thead>\n",
       "    <tr style=\"text-align: right;\">\n",
       "      <th></th>\n",
       "      <th>country</th>\n",
       "      <th>year</th>\n",
       "      <th>bank_account</th>\n",
       "      <th>location_type</th>\n",
       "      <th>cellphone_access</th>\n",
       "      <th>household_size</th>\n",
       "      <th>age_of_respondent</th>\n",
       "      <th>gender_of_respondent</th>\n",
       "      <th>relationship_with_head</th>\n",
       "      <th>marital_status</th>\n",
       "      <th>education_level</th>\n",
       "      <th>job_type</th>\n",
       "    </tr>\n",
       "  </thead>\n",
       "  <tbody>\n",
       "    <tr>\n",
       "      <th>0</th>\n",
       "      <td>0</td>\n",
       "      <td>2</td>\n",
       "      <td>1</td>\n",
       "      <td>0</td>\n",
       "      <td>1</td>\n",
       "      <td>3</td>\n",
       "      <td>24</td>\n",
       "      <td>0</td>\n",
       "      <td>5</td>\n",
       "      <td>2</td>\n",
       "      <td>3</td>\n",
       "      <td>9</td>\n",
       "    </tr>\n",
       "    <tr>\n",
       "      <th>1</th>\n",
       "      <td>0</td>\n",
       "      <td>2</td>\n",
       "      <td>0</td>\n",
       "      <td>0</td>\n",
       "      <td>0</td>\n",
       "      <td>5</td>\n",
       "      <td>70</td>\n",
       "      <td>0</td>\n",
       "      <td>1</td>\n",
       "      <td>4</td>\n",
       "      <td>0</td>\n",
       "      <td>4</td>\n",
       "    </tr>\n",
       "    <tr>\n",
       "      <th>2</th>\n",
       "      <td>0</td>\n",
       "      <td>2</td>\n",
       "      <td>1</td>\n",
       "      <td>1</td>\n",
       "      <td>1</td>\n",
       "      <td>5</td>\n",
       "      <td>26</td>\n",
       "      <td>1</td>\n",
       "      <td>3</td>\n",
       "      <td>3</td>\n",
       "      <td>5</td>\n",
       "      <td>9</td>\n",
       "    </tr>\n",
       "    <tr>\n",
       "      <th>3</th>\n",
       "      <td>0</td>\n",
       "      <td>2</td>\n",
       "      <td>0</td>\n",
       "      <td>0</td>\n",
       "      <td>1</td>\n",
       "      <td>5</td>\n",
       "      <td>34</td>\n",
       "      <td>0</td>\n",
       "      <td>1</td>\n",
       "      <td>2</td>\n",
       "      <td>2</td>\n",
       "      <td>3</td>\n",
       "    </tr>\n",
       "    <tr>\n",
       "      <th>4</th>\n",
       "      <td>0</td>\n",
       "      <td>2</td>\n",
       "      <td>0</td>\n",
       "      <td>1</td>\n",
       "      <td>0</td>\n",
       "      <td>8</td>\n",
       "      <td>26</td>\n",
       "      <td>1</td>\n",
       "      <td>0</td>\n",
       "      <td>3</td>\n",
       "      <td>2</td>\n",
       "      <td>5</td>\n",
       "    </tr>\n",
       "  </tbody>\n",
       "</table>\n",
       "</div>"
      ],
      "text/plain": [
       "   country  year  bank_account  location_type  cellphone_access  \\\n",
       "0        0     2             1              0                 1   \n",
       "1        0     2             0              0                 0   \n",
       "2        0     2             1              1                 1   \n",
       "3        0     2             0              0                 1   \n",
       "4        0     2             0              1                 0   \n",
       "\n",
       "   household_size  age_of_respondent  gender_of_respondent  \\\n",
       "0               3                 24                     0   \n",
       "1               5                 70                     0   \n",
       "2               5                 26                     1   \n",
       "3               5                 34                     0   \n",
       "4               8                 26                     1   \n",
       "\n",
       "   relationship_with_head  marital_status  education_level  job_type  \n",
       "0                       5               2                3         9  \n",
       "1                       1               4                0         4  \n",
       "2                       3               3                5         9  \n",
       "3                       1               2                2         3  \n",
       "4                       0               3                2         5  "
      ]
     },
     "execution_count": 78,
     "metadata": {},
     "output_type": "execute_result"
    }
   ],
   "source": [
    "df.head()\n"
   ]
  },
  {
   "cell_type": "code",
   "execution_count": 53,
   "id": "0a350643",
   "metadata": {},
   "outputs": [],
   "source": [
    "#drop unique id \n",
    "\n",
    "df.drop(\"uniqueid\", axis=1, inplace=True)"
   ]
  },
  {
   "cell_type": "code",
   "execution_count": 54,
   "id": "1ec1f0a0",
   "metadata": {},
   "outputs": [
    {
     "data": {
      "text/html": [
       "<div>\n",
       "<style scoped>\n",
       "    .dataframe tbody tr th:only-of-type {\n",
       "        vertical-align: middle;\n",
       "    }\n",
       "\n",
       "    .dataframe tbody tr th {\n",
       "        vertical-align: top;\n",
       "    }\n",
       "\n",
       "    .dataframe thead th {\n",
       "        text-align: right;\n",
       "    }\n",
       "</style>\n",
       "<table border=\"1\" class=\"dataframe\">\n",
       "  <thead>\n",
       "    <tr style=\"text-align: right;\">\n",
       "      <th></th>\n",
       "      <th>country</th>\n",
       "      <th>year</th>\n",
       "      <th>bank_account</th>\n",
       "      <th>location_type</th>\n",
       "      <th>cellphone_access</th>\n",
       "      <th>household_size</th>\n",
       "      <th>age_of_respondent</th>\n",
       "      <th>gender_of_respondent</th>\n",
       "      <th>relationship_with_head</th>\n",
       "      <th>marital_status</th>\n",
       "      <th>education_level</th>\n",
       "      <th>job_type</th>\n",
       "    </tr>\n",
       "  </thead>\n",
       "  <tbody>\n",
       "    <tr>\n",
       "      <th>0</th>\n",
       "      <td>0</td>\n",
       "      <td>2018</td>\n",
       "      <td>1</td>\n",
       "      <td>0</td>\n",
       "      <td>1</td>\n",
       "      <td>3</td>\n",
       "      <td>24</td>\n",
       "      <td>0</td>\n",
       "      <td>5</td>\n",
       "      <td>2</td>\n",
       "      <td>3</td>\n",
       "      <td>9</td>\n",
       "    </tr>\n",
       "    <tr>\n",
       "      <th>1</th>\n",
       "      <td>0</td>\n",
       "      <td>2018</td>\n",
       "      <td>0</td>\n",
       "      <td>0</td>\n",
       "      <td>0</td>\n",
       "      <td>5</td>\n",
       "      <td>70</td>\n",
       "      <td>0</td>\n",
       "      <td>1</td>\n",
       "      <td>4</td>\n",
       "      <td>0</td>\n",
       "      <td>4</td>\n",
       "    </tr>\n",
       "    <tr>\n",
       "      <th>2</th>\n",
       "      <td>0</td>\n",
       "      <td>2018</td>\n",
       "      <td>1</td>\n",
       "      <td>1</td>\n",
       "      <td>1</td>\n",
       "      <td>5</td>\n",
       "      <td>26</td>\n",
       "      <td>1</td>\n",
       "      <td>3</td>\n",
       "      <td>3</td>\n",
       "      <td>5</td>\n",
       "      <td>9</td>\n",
       "    </tr>\n",
       "    <tr>\n",
       "      <th>3</th>\n",
       "      <td>0</td>\n",
       "      <td>2018</td>\n",
       "      <td>0</td>\n",
       "      <td>0</td>\n",
       "      <td>1</td>\n",
       "      <td>5</td>\n",
       "      <td>34</td>\n",
       "      <td>0</td>\n",
       "      <td>1</td>\n",
       "      <td>2</td>\n",
       "      <td>2</td>\n",
       "      <td>3</td>\n",
       "    </tr>\n",
       "    <tr>\n",
       "      <th>4</th>\n",
       "      <td>0</td>\n",
       "      <td>2018</td>\n",
       "      <td>0</td>\n",
       "      <td>1</td>\n",
       "      <td>0</td>\n",
       "      <td>8</td>\n",
       "      <td>26</td>\n",
       "      <td>1</td>\n",
       "      <td>0</td>\n",
       "      <td>3</td>\n",
       "      <td>2</td>\n",
       "      <td>5</td>\n",
       "    </tr>\n",
       "  </tbody>\n",
       "</table>\n",
       "</div>"
      ],
      "text/plain": [
       "   country  year  bank_account  location_type  cellphone_access  \\\n",
       "0        0  2018             1              0                 1   \n",
       "1        0  2018             0              0                 0   \n",
       "2        0  2018             1              1                 1   \n",
       "3        0  2018             0              0                 1   \n",
       "4        0  2018             0              1                 0   \n",
       "\n",
       "   household_size  age_of_respondent  gender_of_respondent  \\\n",
       "0               3                 24                     0   \n",
       "1               5                 70                     0   \n",
       "2               5                 26                     1   \n",
       "3               5                 34                     0   \n",
       "4               8                 26                     1   \n",
       "\n",
       "   relationship_with_head  marital_status  education_level  job_type  \n",
       "0                       5               2                3         9  \n",
       "1                       1               4                0         4  \n",
       "2                       3               3                5         9  \n",
       "3                       1               2                2         3  \n",
       "4                       0               3                2         5  "
      ]
     },
     "execution_count": 54,
     "metadata": {},
     "output_type": "execute_result"
    }
   ],
   "source": [
    "df.head()"
   ]
  },
  {
   "cell_type": "code",
   "execution_count": 56,
   "id": "e2324021",
   "metadata": {},
   "outputs": [],
   "source": [
    "##Split into feature and target variable\n",
    "x = df.drop([\"bank_account\"], axis = 1)\n",
    "y = df.bank_account\n",
    "\n",
    "#Splitting into train \n",
    "x_train, x_test, y_train, y_test = train_test_split(x,y,test_size=0.2, random_state=43)"
   ]
  },
  {
   "cell_type": "code",
   "execution_count": 60,
   "id": "485cb4f7",
   "metadata": {},
   "outputs": [
    {
     "name": "stdout",
     "output_type": "stream",
     "text": [
      "              precision    recall  f1-score   support\n",
      "\n",
      "           0       0.90      0.95      0.92      4032\n",
      "           1       0.55      0.39      0.46       673\n",
      "\n",
      "    accuracy                           0.87      4705\n",
      "   macro avg       0.73      0.67      0.69      4705\n",
      "weighted avg       0.85      0.87      0.86      4705\n",
      "\n"
     ]
    }
   ],
   "source": [
    "#mpodel random forest \n",
    "model = RandomForestClassifier()\n",
    "\n",
    "model.fit(x_train,  y_train)\n",
    "y_pred =model.predict(x_test)\n",
    "result = classification_report(y_test, y_pred)\n",
    "print(result)"
   ]
  },
  {
   "cell_type": "code",
   "execution_count": 61,
   "id": "01c738fa",
   "metadata": {},
   "outputs": [
    {
     "data": {
      "text/html": [
       "<style type=\"text/css\">\n",
       "</style>\n",
       "<table id=\"T_9afc1\">\n",
       "  <thead>\n",
       "    <tr>\n",
       "      <th class=\"blank level0\" >&nbsp;</th>\n",
       "      <th id=\"T_9afc1_level0_col0\" class=\"col_heading level0 col0\" >country</th>\n",
       "      <th id=\"T_9afc1_level0_col1\" class=\"col_heading level0 col1\" >year</th>\n",
       "      <th id=\"T_9afc1_level0_col2\" class=\"col_heading level0 col2\" >location_type</th>\n",
       "      <th id=\"T_9afc1_level0_col3\" class=\"col_heading level0 col3\" >cellphone_access</th>\n",
       "      <th id=\"T_9afc1_level0_col4\" class=\"col_heading level0 col4\" >household_size</th>\n",
       "      <th id=\"T_9afc1_level0_col5\" class=\"col_heading level0 col5\" >age_of_respondent</th>\n",
       "      <th id=\"T_9afc1_level0_col6\" class=\"col_heading level0 col6\" >gender_of_respondent</th>\n",
       "      <th id=\"T_9afc1_level0_col7\" class=\"col_heading level0 col7\" >relationship_with_head</th>\n",
       "      <th id=\"T_9afc1_level0_col8\" class=\"col_heading level0 col8\" >marital_status</th>\n",
       "      <th id=\"T_9afc1_level0_col9\" class=\"col_heading level0 col9\" >education_level</th>\n",
       "      <th id=\"T_9afc1_level0_col10\" class=\"col_heading level0 col10\" >job_type</th>\n",
       "    </tr>\n",
       "  </thead>\n",
       "  <tbody>\n",
       "    <tr>\n",
       "      <th id=\"T_9afc1_level0_row0\" class=\"row_heading level0 row0\" >count</th>\n",
       "      <td id=\"T_9afc1_row0_col0\" class=\"data row0 col0\" >23524.00</td>\n",
       "      <td id=\"T_9afc1_row0_col1\" class=\"data row0 col1\" >23524.00</td>\n",
       "      <td id=\"T_9afc1_row0_col2\" class=\"data row0 col2\" >23524.00</td>\n",
       "      <td id=\"T_9afc1_row0_col3\" class=\"data row0 col3\" >23524.00</td>\n",
       "      <td id=\"T_9afc1_row0_col4\" class=\"data row0 col4\" >23524.00</td>\n",
       "      <td id=\"T_9afc1_row0_col5\" class=\"data row0 col5\" >23524.00</td>\n",
       "      <td id=\"T_9afc1_row0_col6\" class=\"data row0 col6\" >23524.00</td>\n",
       "      <td id=\"T_9afc1_row0_col7\" class=\"data row0 col7\" >23524.00</td>\n",
       "      <td id=\"T_9afc1_row0_col8\" class=\"data row0 col8\" >23524.00</td>\n",
       "      <td id=\"T_9afc1_row0_col9\" class=\"data row0 col9\" >23524.00</td>\n",
       "      <td id=\"T_9afc1_row0_col10\" class=\"data row0 col10\" >23524.00</td>\n",
       "    </tr>\n",
       "    <tr>\n",
       "      <th id=\"T_9afc1_level0_row1\" class=\"row_heading level0 row1\" >mean</th>\n",
       "      <td id=\"T_9afc1_row1_col0\" class=\"data row1 col0\" >1.20</td>\n",
       "      <td id=\"T_9afc1_row1_col1\" class=\"data row1 col1\" >2016.98</td>\n",
       "      <td id=\"T_9afc1_row1_col2\" class=\"data row1 col2\" >0.39</td>\n",
       "      <td id=\"T_9afc1_row1_col3\" class=\"data row1 col3\" >0.74</td>\n",
       "      <td id=\"T_9afc1_row1_col4\" class=\"data row1 col4\" >3.80</td>\n",
       "      <td id=\"T_9afc1_row1_col5\" class=\"data row1 col5\" >38.81</td>\n",
       "      <td id=\"T_9afc1_row1_col6\" class=\"data row1 col6\" >0.41</td>\n",
       "      <td id=\"T_9afc1_row1_col7\" class=\"data row1 col7\" >2.22</td>\n",
       "      <td id=\"T_9afc1_row1_col8\" class=\"data row1 col8\" >2.39</td>\n",
       "      <td id=\"T_9afc1_row1_col9\" class=\"data row1 col9\" >1.99</td>\n",
       "      <td id=\"T_9afc1_row1_col10\" class=\"data row1 col10\" >5.43</td>\n",
       "    </tr>\n",
       "    <tr>\n",
       "      <th id=\"T_9afc1_level0_row2\" class=\"row_heading level0 row2\" >std</th>\n",
       "      <td id=\"T_9afc1_row2_col0\" class=\"data row2 col0\" >0.93</td>\n",
       "      <td id=\"T_9afc1_row2_col1\" class=\"data row2 col1\" >0.85</td>\n",
       "      <td id=\"T_9afc1_row2_col2\" class=\"data row2 col2\" >0.49</td>\n",
       "      <td id=\"T_9afc1_row2_col3\" class=\"data row2 col3\" >0.44</td>\n",
       "      <td id=\"T_9afc1_row2_col4\" class=\"data row2 col4\" >2.23</td>\n",
       "      <td id=\"T_9afc1_row2_col5\" class=\"data row2 col5\" >16.52</td>\n",
       "      <td id=\"T_9afc1_row2_col6\" class=\"data row2 col6\" >0.49</td>\n",
       "      <td id=\"T_9afc1_row2_col7\" class=\"data row2 col7\" >1.89</td>\n",
       "      <td id=\"T_9afc1_row2_col8\" class=\"data row2 col8\" >1.00</td>\n",
       "      <td id=\"T_9afc1_row2_col9\" class=\"data row2 col9\" >1.21</td>\n",
       "      <td id=\"T_9afc1_row2_col10\" class=\"data row2 col10\" >3.09</td>\n",
       "    </tr>\n",
       "    <tr>\n",
       "      <th id=\"T_9afc1_level0_row3\" class=\"row_heading level0 row3\" >min</th>\n",
       "      <td id=\"T_9afc1_row3_col0\" class=\"data row3 col0\" >0.00</td>\n",
       "      <td id=\"T_9afc1_row3_col1\" class=\"data row3 col1\" >2016.00</td>\n",
       "      <td id=\"T_9afc1_row3_col2\" class=\"data row3 col2\" >0.00</td>\n",
       "      <td id=\"T_9afc1_row3_col3\" class=\"data row3 col3\" >0.00</td>\n",
       "      <td id=\"T_9afc1_row3_col4\" class=\"data row3 col4\" >1.00</td>\n",
       "      <td id=\"T_9afc1_row3_col5\" class=\"data row3 col5\" >16.00</td>\n",
       "      <td id=\"T_9afc1_row3_col6\" class=\"data row3 col6\" >0.00</td>\n",
       "      <td id=\"T_9afc1_row3_col7\" class=\"data row3 col7\" >0.00</td>\n",
       "      <td id=\"T_9afc1_row3_col8\" class=\"data row3 col8\" >0.00</td>\n",
       "      <td id=\"T_9afc1_row3_col9\" class=\"data row3 col9\" >0.00</td>\n",
       "      <td id=\"T_9afc1_row3_col10\" class=\"data row3 col10\" >0.00</td>\n",
       "    </tr>\n",
       "    <tr>\n",
       "      <th id=\"T_9afc1_level0_row4\" class=\"row_heading level0 row4\" >25%</th>\n",
       "      <td id=\"T_9afc1_row4_col0\" class=\"data row4 col0\" >0.00</td>\n",
       "      <td id=\"T_9afc1_row4_col1\" class=\"data row4 col1\" >2016.00</td>\n",
       "      <td id=\"T_9afc1_row4_col2\" class=\"data row4 col2\" >0.00</td>\n",
       "      <td id=\"T_9afc1_row4_col3\" class=\"data row4 col3\" >0.00</td>\n",
       "      <td id=\"T_9afc1_row4_col4\" class=\"data row4 col4\" >2.00</td>\n",
       "      <td id=\"T_9afc1_row4_col5\" class=\"data row4 col5\" >26.00</td>\n",
       "      <td id=\"T_9afc1_row4_col6\" class=\"data row4 col6\" >0.00</td>\n",
       "      <td id=\"T_9afc1_row4_col7\" class=\"data row4 col7\" >1.00</td>\n",
       "      <td id=\"T_9afc1_row4_col8\" class=\"data row4 col8\" >2.00</td>\n",
       "      <td id=\"T_9afc1_row4_col9\" class=\"data row4 col9\" >2.00</td>\n",
       "      <td id=\"T_9afc1_row4_col10\" class=\"data row4 col10\" >2.00</td>\n",
       "    </tr>\n",
       "    <tr>\n",
       "      <th id=\"T_9afc1_level0_row5\" class=\"row_heading level0 row5\" >50%</th>\n",
       "      <td id=\"T_9afc1_row5_col0\" class=\"data row5 col0\" >1.00</td>\n",
       "      <td id=\"T_9afc1_row5_col1\" class=\"data row5 col1\" >2017.00</td>\n",
       "      <td id=\"T_9afc1_row5_col2\" class=\"data row5 col2\" >0.00</td>\n",
       "      <td id=\"T_9afc1_row5_col3\" class=\"data row5 col3\" >1.00</td>\n",
       "      <td id=\"T_9afc1_row5_col4\" class=\"data row5 col4\" >3.00</td>\n",
       "      <td id=\"T_9afc1_row5_col5\" class=\"data row5 col5\" >35.00</td>\n",
       "      <td id=\"T_9afc1_row5_col6\" class=\"data row5 col6\" >0.00</td>\n",
       "      <td id=\"T_9afc1_row5_col7\" class=\"data row5 col7\" >1.00</td>\n",
       "      <td id=\"T_9afc1_row5_col8\" class=\"data row5 col8\" >2.00</td>\n",
       "      <td id=\"T_9afc1_row5_col9\" class=\"data row5 col9\" >2.00</td>\n",
       "      <td id=\"T_9afc1_row5_col10\" class=\"data row5 col10\" >5.00</td>\n",
       "    </tr>\n",
       "    <tr>\n",
       "      <th id=\"T_9afc1_level0_row6\" class=\"row_heading level0 row6\" >75%</th>\n",
       "      <td id=\"T_9afc1_row6_col0\" class=\"data row6 col0\" >2.00</td>\n",
       "      <td id=\"T_9afc1_row6_col1\" class=\"data row6 col1\" >2018.00</td>\n",
       "      <td id=\"T_9afc1_row6_col2\" class=\"data row6 col2\" >1.00</td>\n",
       "      <td id=\"T_9afc1_row6_col3\" class=\"data row6 col3\" >1.00</td>\n",
       "      <td id=\"T_9afc1_row6_col4\" class=\"data row6 col4\" >5.00</td>\n",
       "      <td id=\"T_9afc1_row6_col5\" class=\"data row6 col5\" >49.00</td>\n",
       "      <td id=\"T_9afc1_row6_col6\" class=\"data row6 col6\" >1.00</td>\n",
       "      <td id=\"T_9afc1_row6_col7\" class=\"data row6 col7\" >5.00</td>\n",
       "      <td id=\"T_9afc1_row6_col8\" class=\"data row6 col8\" >3.00</td>\n",
       "      <td id=\"T_9afc1_row6_col9\" class=\"data row6 col9\" >3.00</td>\n",
       "      <td id=\"T_9afc1_row6_col10\" class=\"data row6 col10\" >9.00</td>\n",
       "    </tr>\n",
       "    <tr>\n",
       "      <th id=\"T_9afc1_level0_row7\" class=\"row_heading level0 row7\" >max</th>\n",
       "      <td id=\"T_9afc1_row7_col0\" class=\"data row7 col0\" >3.00</td>\n",
       "      <td id=\"T_9afc1_row7_col1\" class=\"data row7 col1\" >2018.00</td>\n",
       "      <td id=\"T_9afc1_row7_col2\" class=\"data row7 col2\" >1.00</td>\n",
       "      <td id=\"T_9afc1_row7_col3\" class=\"data row7 col3\" >1.00</td>\n",
       "      <td id=\"T_9afc1_row7_col4\" class=\"data row7 col4\" >21.00</td>\n",
       "      <td id=\"T_9afc1_row7_col5\" class=\"data row7 col5\" >100.00</td>\n",
       "      <td id=\"T_9afc1_row7_col6\" class=\"data row7 col6\" >1.00</td>\n",
       "      <td id=\"T_9afc1_row7_col7\" class=\"data row7 col7\" >5.00</td>\n",
       "      <td id=\"T_9afc1_row7_col8\" class=\"data row7 col8\" >4.00</td>\n",
       "      <td id=\"T_9afc1_row7_col9\" class=\"data row7 col9\" >5.00</td>\n",
       "      <td id=\"T_9afc1_row7_col10\" class=\"data row7 col10\" >9.00</td>\n",
       "    </tr>\n",
       "  </tbody>\n",
       "</table>\n"
      ],
      "text/plain": [
       "<pandas.io.formats.style.Styler at 0x1b107e35940>"
      ]
     },
     "execution_count": 61,
     "metadata": {},
     "output_type": "execute_result"
    }
   ],
   "source": [
    "x.describe().style.format(\"{:.2f}\")"
   ]
  },
  {
   "cell_type": "code",
   "execution_count": 62,
   "id": "1c752efb",
   "metadata": {},
   "outputs": [
    {
     "data": {
      "text/plain": [
       "['rf_project2_model.sav']"
      ]
     },
     "execution_count": 62,
     "metadata": {},
     "output_type": "execute_result"
    }
   ],
   "source": [
    "#save model\n",
    "path = \"rf_project2_model.sav\"\n",
    "joblib.dump(model, path)"
   ]
  },
  {
   "cell_type": "code",
   "execution_count": null,
   "id": "66787064",
   "metadata": {},
   "outputs": [],
   "source": [
    "country_enc = joblib.load (\"country_encoder.sav\")\n",
    "educ_enc = joblib.load(\"educ_encoder.sav\")\n",
    "gen_enc = joblib.load(\"genc_encoder.sav\")\n",
    "jobtype_enc = joblib.load(\"jobtype_encoder.sav\")\n",
    "loc_enc = joblib.load(\"jobtype_encoder.sav\")\n",
    "rel_enc = joblib.load(\"rel_head_encoder.sav\")\n"
   ]
  }
 ],
 "metadata": {
  "kernelspec": {
   "display_name": "project2",
   "language": "python",
   "name": "python3"
  },
  "language_info": {
   "codemirror_mode": {
    "name": "ipython",
    "version": 3
   },
   "file_extension": ".py",
   "mimetype": "text/x-python",
   "name": "python",
   "nbconvert_exporter": "python",
   "pygments_lexer": "ipython3",
   "version": "3.13.5"
  }
 },
 "nbformat": 4,
 "nbformat_minor": 5
}
